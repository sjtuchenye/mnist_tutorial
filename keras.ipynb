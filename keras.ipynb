{
 "cells": [
  {
   "cell_type": "markdown",
   "metadata": {},
   "source": [
    "# Keras Tutorial"
   ]
  },
  {
   "cell_type": "markdown",
   "metadata": {},
   "source": [
    "Keras is a popular deep learning framework and it's easy to get started."
   ]
  },
  {
   "cell_type": "code",
   "execution_count": 1,
   "metadata": {},
   "outputs": [
    {
     "name": "stderr",
     "output_type": "stream",
     "text": [
      "Using TensorFlow backend.\n"
     ]
    }
   ],
   "source": [
    "import keras\n",
    "from keras.datasets import mnist\n",
    "from keras.models import Sequential\n",
    "from keras.layers import Dense, Dropout, Flatten, Conv2D, MaxPooling2D\n",
    "\n",
    "BATCH_SIZE = 128\n",
    "NUM_CLASSES = 10\n",
    "NUM_EPOCHS = 10"
   ]
  },
  {
   "cell_type": "markdown",
   "metadata": {},
   "source": [
    "First, we read the mnist data and preprocess them."
   ]
  },
  {
   "cell_type": "code",
   "execution_count": 2,
   "metadata": {},
   "outputs": [],
   "source": [
    "# download and load the data (split them between train and test sets)\n",
    "(x_train, y_train), (x_test, y_test) = mnist.load_data()\n",
    "\n",
    "# expand the channel dimension\n",
    "x_train = x_train.reshape(x_train.shape[0], 28, 28, 1)\n",
    "x_test = x_test.reshape(x_test.shape[0], 28, 28, 1)\n",
    "input_shape = (28, 28, 1)\n",
    "\n",
    "# make the value of pixels from [0, 255] to [0, 1] for further process\n",
    "x_train = x_train.astype('float32') / 255.\n",
    "x_test = x_test.astype('float32') / 255.\n",
    "\n",
    "# convert class vectors to binary class matrics\n",
    "y_train = keras.utils.to_categorical(y_train, NUM_CLASSES)\n",
    "y_test = keras.utils.to_categorical(y_test, NUM_CLASSES)"
   ]
  },
  {
   "cell_type": "markdown",
   "metadata": {},
   "source": [
    "Then, we define the model, object function and optimizer that we use to classify."
   ]
  },
  {
   "cell_type": "code",
   "execution_count": 5,
   "metadata": {},
   "outputs": [],
   "source": [
    "# define the model\n",
    "model = Sequential()\n",
    "model.add(Conv2D(32, (5, 5), strides=(1, 1), activation='tanh', input_shape=input_shape))\n",
    "model.add(MaxPooling2D(pool_size=(2, 2), strides=(2, 2)))\n",
    "model.add(Conv2D(64, (5, 5), activation='relu'))\n",
    "model.add(MaxPooling2D(pool_size=(2, 2)))\n",
    "model.add(Flatten())\n",
    "model.add(Dense(1000, activation='relu'))\n",
    "model.add(Dense(10, activation='softmax'))\n",
    "\n",
    "# define the object function, optimizer and metrics\n",
    "model.compile(optimizer='adam', loss='mse', metrics=['accuracy'])"
   ]
  },
  {
   "cell_type": "markdown",
   "metadata": {},
   "source": [
    "Next, we can start to train and evaluate!"
   ]
  },
  {
   "cell_type": "code",
   "execution_count": 6,
   "metadata": {},
   "outputs": [
    {
     "name": "stdout",
     "output_type": "stream",
     "text": [
      "Epoch 1/10\n",
      "60000/60000 [==============================] - 57s 946us/step - loss: 0.0076 - acc: 0.9486\n",
      "Epoch 2/10\n",
      "60000/60000 [==============================] - 56s 933us/step - loss: 0.0025 - acc: 0.9841\n",
      "Epoch 3/10\n",
      "60000/60000 [==============================] - 57s 942us/step - loss: 0.0018 - acc: 0.9886\n",
      "Epoch 4/10\n",
      "60000/60000 [==============================] - 56s 937us/step - loss: 0.0015 - acc: 0.9907\n",
      "Epoch 5/10\n",
      "60000/60000 [==============================] - 57s 945us/step - loss: 0.0011 - acc: 0.9930\n",
      "Epoch 6/10\n",
      "60000/60000 [==============================] - 58s 961us/step - loss: 0.0012 - acc: 0.9917\n",
      "Epoch 7/10\n",
      "60000/60000 [==============================] - 57s 948us/step - loss: 0.0011 - acc: 0.9931\n",
      "Epoch 8/10\n",
      "60000/60000 [==============================] - 61s 1ms/step - loss: 8.6615e-04 - acc: 0.9948\n",
      "Epoch 9/10\n",
      "60000/60000 [==============================] - 55s 924us/step - loss: 8.2316e-04 - acc: 0.9949\n",
      "Epoch 10/10\n",
      "60000/60000 [==============================] - 55s 914us/step - loss: 8.3774e-04 - acc: 0.9948\n",
      "60000/60000 [==============================] - 18s 299us/step\n",
      "Training accuracy:  0.9964333333015442\n",
      "10000/10000 [==============================] - 3s 287us/step\n",
      "Testing accuracy:  0.9901\n"
     ]
    }
   ],
   "source": [
    "# train\n",
    "model.fit(x_train, y_train, batch_size=BATCH_SIZE, epochs=NUM_EPOCHS)\n",
    "\n",
    "# evaluate\n",
    "score_train = model.evaluate(x_train, y_train, batch_size=BATCH_SIZE)\n",
    "print('Training accuracy: ', score_train[1])\n",
    "score_test = model.evaluate(x_test, y_test, batch_size=BATCH_SIZE)\n",
    "print('Testing accuracy: ', score_test[1])"
   ]
  },
  {
   "cell_type": "markdown",
   "metadata": {},
   "source": [
    "#### Q6:\n",
    "Please print the training and testing accuracy."
   ]
  }
 ],
 "metadata": {
  "kernelspec": {
   "display_name": "Python 3",
   "language": "python",
   "name": "python3"
  },
  "language_info": {
   "codemirror_mode": {
    "name": "ipython",
    "version": 3
   },
   "file_extension": ".py",
   "mimetype": "text/x-python",
   "name": "python",
   "nbconvert_exporter": "python",
   "pygments_lexer": "ipython3",
   "version": "3.6.6"
  }
 },
 "nbformat": 4,
 "nbformat_minor": 2
}
